{
 "cells": [
  {
   "cell_type": "code",
   "execution_count": 1,
   "id": "69c57480",
   "metadata": {},
   "outputs": [],
   "source": [
    "from astropy.io import fits\n",
    "from reproject.mosaicking import find_optimal_celestial_wcs\n",
    "from reproject import reproject_interp\n",
    "from reproject.mosaicking import reproject_and_coadd"
   ]
  },
  {
   "cell_type": "code",
   "execution_count": 2,
   "id": "e29dfb57",
   "metadata": {},
   "outputs": [],
   "source": [
    "hdu1=fits.open('/home/kokoro/NGC4696/2015/IMAGE_FOV_0001.fits')\n",
    "hdu2=fits.open('/home/kokoro/NGC4696/2019_OB_1/IMAGE_FOV_0001.fits')\n",
    "hdu3=fits.open('/home/kokoro/NGC4696/2019_OB_2/IMAGE_FOV_0001.fits')\n",
    "hdu4=fits.open('/home/kokoro/NGC4696/2019_OB_3/IMAGE_FOV_0001.fits')\n",
    "hdu5=fits.open('/home/kokoro/NGC4696/2019_OB_4/IMAGE_FOV_0001.fits')\n",
    "hdu6=fits.open('/home/kokoro/NGC4696/2023_OB_1/IMAGE_FOV_0001.fits')\n",
    "hdu7=fits.open('/home/kokoro/NGC4696/2023_OB_2/IMAGE_FOV_0001.fits')"
   ]
  },
  {
   "cell_type": "code",
   "execution_count": 3,
   "id": "0f63c2c3",
   "metadata": {},
   "outputs": [],
   "source": [
    "hdus = fits.HDUList([hdu1[1], hdu2[1], hdu3[1], hdu4[1], hdu5[1], hdu6[1], hdu7[1]])\n",
    "wcs_out, shape_out = find_optimal_celestial_wcs(hdus,frame='fk5')\n",
    "hdr=wcs_out.to_header()"
   ]
  },
  {
   "cell_type": "code",
   "execution_count": 4,
   "id": "2494ed2b",
   "metadata": {},
   "outputs": [],
   "source": [
    "array, footprint = reproject_and_coadd(hdus,\n",
    "                                       wcs_out, shape_out=shape_out,\n",
    "                                       reproject_function=reproject_interp, match_background=True)\n",
    "prihdr = fits.Header()\n",
    "prihdr['OBJECT'] = 'NGC 4696 (white)'\n",
    "prihdr['RADESYS'] = 'FK5'\n",
    "#hdr['CD1_1'] = '-5.55555555555556E-05 / Coordinate transformation matrix element '\n",
    "#hdr['CD1_2'] = '  0. / Coordinate transformation matrix element'\n",
    "#hdr['CD2_1'] = '  0. / Coordinate transformation matrix element'\n",
    "#hdr['CD2_2'] = '5.55555555555556E-05 / Coordinate transformation matrix element'\n",
    "#hdr['BUNIT'] = '10**(-20)*erg/s/cm**2/Angstrom'\n",
    "empty_primary = fits.PrimaryHDU(header=prihdr)\n",
    "image_hdu = fits.ImageHDU(array, name='DATA', header=hdr)\n",
    "hdul = fits.HDUList([empty_primary, image_hdu])"
   ]
  },
  {
   "cell_type": "code",
   "execution_count": 5,
   "id": "66cad9c3",
   "metadata": {},
   "outputs": [],
   "source": [
    "hdul.writeto('NGC4696_white_mosaic.fits')"
   ]
  },
  {
   "cell_type": "code",
   "execution_count": null,
   "id": "71462d20",
   "metadata": {},
   "outputs": [],
   "source": []
  }
 ],
 "metadata": {
  "kernelspec": {
   "display_name": "Python 3 (ipykernel)",
   "language": "python",
   "name": "python3"
  },
  "language_info": {
   "codemirror_mode": {
    "name": "ipython",
    "version": 3
   },
   "file_extension": ".py",
   "mimetype": "text/x-python",
   "name": "python",
   "nbconvert_exporter": "python",
   "pygments_lexer": "ipython3",
   "version": "3.11.9"
  }
 },
 "nbformat": 4,
 "nbformat_minor": 5
}
