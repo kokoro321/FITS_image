{
 "cells": [
  {
   "cell_type": "code",
   "execution_count": 12,
   "id": "6f8b27ba",
   "metadata": {},
   "outputs": [
    {
     "name": "stdout",
     "output_type": "stream",
     "text": [
      "The dimension of skymask\n",
      "[[0 0 0 ... 0 0 0]\n",
      " [0 0 0 ... 0 0 0]\n",
      " [0 0 0 ... 0 0 0]\n",
      " ...\n",
      " [0 0 0 ... 0 0 0]\n",
      " [0 0 0 ... 0 0 0]\n",
      " [0 0 0 ... 0 0 0]]\n",
      "<class 'numpy.ndarray'>\n",
      "(308, 316)\n",
      "Filename: /home/kokoro/NGC5419/SKY_MASK_0001.fits\n",
      "No.    Name      Ver    Type      Cards   Dimensions   Format\n",
      "  0  PRIMARY       1 PrimaryHDU    1204   (316, 308)   uint8   \n"
     ]
    }
   ],
   "source": [
    "# program to modify the dimension of mask file/SKY_MASK_0001.fits\n",
    "\n",
    "from astropy.io import fits\n",
    "import numpy as np\n",
    "\n",
    "\n",
    "# Open the mask image\n",
    "fits_sky_mask = fits.open('/home/kokoro/NGC5419/SKY_MASK_0001.fits')\n",
    "\n",
    "print(\"The dimension of skymask\")\n",
    "\n",
    "data = fits_sky_mask[0].data\n",
    "dimensions = data.shape\n",
    "print(data)\n",
    "print(type(data))\n",
    "print(dimensions)\n",
    "info_sky_mask = fits_sky_mask.info()"
   ]
  },
  {
   "cell_type": "code",
   "execution_count": 13,
   "id": "a1a8a2a9",
   "metadata": {},
   "outputs": [],
   "source": [
    "# Rotating image\n",
    "from scipy import ndimage\n",
    "\n",
    "sky_mask_rotate = ndimage.rotate(data, -80, reshape=True)   # +degrees in clockwise and -degrees in counterclockwise"
   ]
  },
  {
   "cell_type": "code",
   "execution_count": 14,
   "id": "97338a71",
   "metadata": {},
   "outputs": [],
   "source": [
    "# Making a new file to write the changed data\n",
    "hdu = fits.PrimaryHDU(sky_mask_rotate)\n",
    "hdulist = fits.HDUList([hdu])\n",
    "\n",
    "hdulist.writeto('ROTATED_SKY_MASK.fits', overwrite=True)\n",
    "fits_sky_mask.close()"
   ]
  },
  {
   "cell_type": "code",
   "execution_count": 15,
   "id": "8de23d22",
   "metadata": {},
   "outputs": [
    {
     "name": "stdout",
     "output_type": "stream",
     "text": [
      "Filename: ROTATED_SKY_MASK.fits\n",
      "No.    Name      Ver    Type      Cards   Dimensions   Format\n",
      "  0  PRIMARY       1 PrimaryHDU       6   (358, 365)   uint8   \n",
      "[[0 0 0 ... 0 0 0]\n",
      " [0 0 0 ... 0 0 0]\n",
      " [0 0 0 ... 0 0 0]\n",
      " ...\n",
      " [0 0 0 ... 0 0 0]\n",
      " [0 0 0 ... 0 0 0]\n",
      " [0 0 0 ... 0 0 0]]\n",
      "<class 'numpy.ndarray'>\n",
      "(365, 358)\n"
     ]
    }
   ],
   "source": [
    "# Checking data of the rotated image\n",
    "rotated_image = fits.open('ROTATED_SKY_MASK.fits')\n",
    "\n",
    "info_rotated_image = rotated_image.info()\n",
    "rotated_data = rotated_image[0].data\n",
    "dimensions = rotated_data.shape\n",
    "print(rotated_data)\n",
    "print(type(rotated_data))\n",
    "print(dimensions)\n",
    "\n",
    "rotated_image.close()"
   ]
  },
  {
   "cell_type": "code",
   "execution_count": null,
   "id": "87bde220",
   "metadata": {},
   "outputs": [],
   "source": []
  }
 ],
 "metadata": {
  "kernelspec": {
   "display_name": "Python 3 (ipykernel)",
   "language": "python",
   "name": "python3"
  },
  "language_info": {
   "codemirror_mode": {
    "name": "ipython",
    "version": 3
   },
   "file_extension": ".py",
   "mimetype": "text/x-python",
   "name": "python",
   "nbconvert_exporter": "python",
   "pygments_lexer": "ipython3",
   "version": "3.11.9"
  }
 },
 "nbformat": 4,
 "nbformat_minor": 5
}
