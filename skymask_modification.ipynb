{
 "cells": [
  {
   "cell_type": "code",
   "execution_count": 20,
   "id": "4f4c3c85",
   "metadata": {},
   "outputs": [
    {
     "name": "stdout",
     "output_type": "stream",
     "text": [
      "Filename: /ROTATED_SKY_MASK.fits\n",
      "No.    Name      Ver    Type      Cards   Dimensions   Format\n",
      "  0  PRIMARY       1 PrimaryHDU       6   (358, 365)   uint8   \n",
      "[[0 0 0 ... 0 0 0]\n",
      " [0 0 0 ... 0 0 0]\n",
      " [0 0 0 ... 0 0 0]\n",
      " ...\n",
      " [0 0 0 ... 0 0 0]\n",
      " [0 0 0 ... 0 0 0]\n",
      " [0 0 0 ... 0 0 0]]\n",
      "<class 'numpy.ndarray'>\n",
      "(365, 358)\n"
     ]
    }
   ],
   "source": [
    "# program to modify the dimension of skymask\n",
    "\n",
    "from astropy.io import fits\n",
    "import numpy as np\n",
    "\n",
    "# Info for SKY_MASK\n",
    "fits_sky_mask = fits.open('ROTATED_SKY_MASK.fits')\n",
    "info_sky_mask = fits_sky_mask.info()\n",
    "\n",
    "\n",
    "data = fits_sky_mask[0].data\n",
    "dimensions = data.shape\n",
    "print(data)\n",
    "print(type(data))\n",
    "print(dimensions)"
   ]
  },
  {
   "cell_type": "code",
   "execution_count": 22,
   "id": "40f7f878",
   "metadata": {},
   "outputs": [
    {
     "name": "stdout",
     "output_type": "stream",
     "text": [
      "[[0 0 0 ... 0 0 0]\n",
      " [0 0 0 ... 0 0 0]\n",
      " [0 0 0 ... 0 0 0]\n",
      " ...\n",
      " [0 0 0 ... 0 0 0]\n",
      " [0 0 0 ... 0 0 0]\n",
      " [0 0 0 ... 0 0 0]]\n",
      "(360, 362)\n"
     ]
    }
   ],
   "source": [
    "# Adding 4 columns in the beginning\n",
    "for i in range(4):\n",
    "    data = np.insert(data,0,0,axis=1)\n",
    "    \n",
    "# Deleting 5 rows\n",
    "for j in range(5):\n",
    "    data = np.delete(data,0,axis=0)\n",
    "\n",
    "# Check the matrix\n",
    "print(data)\n",
    "print(data.shape)"
   ]
  },
  {
   "cell_type": "code",
   "execution_count": 23,
   "id": "b2b6adee",
   "metadata": {},
   "outputs": [],
   "source": [
    "# Making a new file to write the changed data\n",
    "hdu = fits.PrimaryHDU(data)\n",
    "hdulist = fits.HDUList([hdu])\n",
    "\n",
    "hdulist.writeto('NEW_SKY_MASK_0001.fits', overwrite=True)\n",
    "\n",
    "fits_sky_mask.close()"
   ]
  },
  {
   "cell_type": "code",
   "execution_count": 24,
   "id": "6f22b335",
   "metadata": {},
   "outputs": [
    {
     "name": "stdout",
     "output_type": "stream",
     "text": [
      "Filename: NEW_SKY_MASK_0001.fits\n",
      "No.    Name      Ver    Type      Cards   Dimensions   Format\n",
      "  0  PRIMARY       1 PrimaryHDU       6   (362, 360)   uint8   \n",
      "[[0 0 0 ... 0 0 0]\n",
      " [0 0 0 ... 0 0 0]\n",
      " [0 0 0 ... 0 0 0]\n",
      " ...\n",
      " [0 0 0 ... 0 0 0]\n",
      " [0 0 0 ... 0 0 0]\n",
      " [0 0 0 ... 0 0 0]]\n",
      "<class 'numpy.ndarray'>\n",
      "(360, 362)\n"
     ]
    }
   ],
   "source": [
    "# Check the contents in the new file\n",
    "new_image = fits.open('NEW_SKY_MASK_0001.fits')\n",
    "\n",
    "info_new_image = new_image.info()\n",
    "new_data = new_image[0].data\n",
    "dimensions = new_data.shape\n",
    "print(new_data)\n",
    "print(type(new_data))\n",
    "print(dimensions)\n",
    "\n",
    "new_image.close()"
   ]
  },
  {
   "cell_type": "code",
   "execution_count": 25,
   "id": "411cafe1",
   "metadata": {},
   "outputs": [
    {
     "name": "stdout",
     "output_type": "stream",
     "text": [
      "66303\n",
      "64017\n"
     ]
    }
   ],
   "source": [
    "# How many 1 and 0 are there in the array initially(it should be 66303 for 1 and 64017 for 0 initially)\n",
    "print(len(new_data[new_data==1]))\n",
    "print(len(new_data[new_data==0]))"
   ]
  },
  {
   "cell_type": "code",
   "execution_count": 26,
   "id": "65c4ac45",
   "metadata": {},
   "outputs": [],
   "source": [
    "# Switch 1 and 0 for elements that 0 or 1 were assigned \n",
    "new_data[new_data==1]=99\n",
    "new_data[new_data==0]=1\n",
    "new_data[new_data==99]=0"
   ]
  },
  {
   "cell_type": "code",
   "execution_count": 27,
   "id": "e253fb4e",
   "metadata": {},
   "outputs": [
    {
     "name": "stdout",
     "output_type": "stream",
     "text": [
      "64017\n",
      "66303\n"
     ]
    }
   ],
   "source": [
    "# How many 0 and 1 are there in the array after running the code\n",
    "# Make sure the number of 1 and 0 match with before running the code\n",
    "print(len(new_data[new_data==1]))\n",
    "print(len(new_data[new_data==0]))"
   ]
  },
  {
   "cell_type": "code",
   "execution_count": 28,
   "id": "3f56a661",
   "metadata": {},
   "outputs": [],
   "source": [
    "# Write the updated data into a new file\n",
    "hdu = fits.PrimaryHDU(new_data)\n",
    "hdulist = fits.HDUList([hdu])\n",
    "\n",
    "hdulist.writeto('FINAL_SKY_MASK_0001.fits', overwrite=True)\n",
    "new_image.close()"
   ]
  },
  {
   "cell_type": "code",
   "execution_count": 29,
   "id": "b3b2acd9",
   "metadata": {},
   "outputs": [
    {
     "name": "stdout",
     "output_type": "stream",
     "text": [
      "Filename: FINAL_SKY_MASK_0001.fits\n",
      "No.    Name      Ver    Type      Cards   Dimensions   Format\n",
      "  0  PRIMARY       1 PrimaryHDU       6   (362, 360)   uint8   \n",
      "[[1 1 1 ... 1 1 1]\n",
      " [1 1 1 ... 1 1 1]\n",
      " [1 1 1 ... 1 1 1]\n",
      " ...\n",
      " [1 1 1 ... 1 1 1]\n",
      " [1 1 1 ... 1 1 1]\n",
      " [1 1 1 ... 1 1 1]]\n",
      "<class 'numpy.ndarray'>\n",
      "(360, 362)\n"
     ]
    }
   ],
   "source": [
    "# Check and make sure the info in the new file\n",
    "image = fits.open('FINAL_SKY_MASK_0001.fits')\n",
    "\n",
    "info_image = image.info()\n",
    "data = image[0].data\n",
    "dimensions = data.shape\n",
    "print(data)\n",
    "print(type(data))\n",
    "print(dimensions)\n",
    "\n",
    "image.close()"
   ]
  },
  {
   "cell_type": "code",
   "execution_count": null,
   "id": "efebaa86",
   "metadata": {},
   "outputs": [],
   "source": []
  }
 ],
 "metadata": {
  "kernelspec": {
   "display_name": "Python 3 (ipykernel)",
   "language": "python",
   "name": "python3"
  },
  "language_info": {
   "codemirror_mode": {
    "name": "ipython",
    "version": 3
   },
   "file_extension": ".py",
   "mimetype": "text/x-python",
   "name": "python",
   "nbconvert_exporter": "python",
   "pygments_lexer": "ipython3",
   "version": "3.11.9"
  }
 },
 "nbformat": 4,
 "nbformat_minor": 5
}
